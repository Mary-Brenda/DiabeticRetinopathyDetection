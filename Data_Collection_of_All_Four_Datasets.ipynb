{
 "cells": [
  {
   "cell_type": "code",
   "execution_count": null,
   "metadata": {
    "id": "Wk8EYJ0_9NY2"
   },
   "outputs": [],
   "source": [
    "import os\n",
    "import shutil\n",
    "import zipfile\n",
    "import pandas as pd\n",
    "import numpy as np\n",
    "from tqdm import tqdm"
   ]
  },
  {
   "cell_type": "markdown",
   "metadata": {
    "id": "kFXEoZ3T6myg"
   },
   "source": [
    "## Downloading the Datasets"
   ]
  },
  {
   "cell_type": "code",
   "execution_count": null,
   "metadata": {
    "id": "ZskqL_evjnE1"
   },
   "outputs": [],
   "source": [
    "root_dir = \"/content/drive/MyDrive/Colab Notebooks\"\n",
    "original_datasets_dir = \"/content/drive/MyDrive/Colab Notebooks/original_datasets\"\n",
    "if not os.path.exists(original_datasets_dir):\n",
    "    os.makedirs(original_datasets_dir, exist_ok=True)"
   ]
  },
  {
   "cell_type": "code",
   "execution_count": null,
   "metadata": {
    "id": "nOO0ZkIm8WnB"
   },
   "outputs": [],
   "source": [
    "!mkdir /root/.kaggle\n",
    "!echo '{\"username\":\"{INSERT_KAGGLE_USERNAME}\",\"key\":\"{INSERT_KAGGLE_USER_API_KEY}\"}' > /root/.kaggle/kaggle.json\n",
    "!chmod 600 /root/.kaggle/kaggle.json"
   ]
  },
  {
   "cell_type": "code",
   "execution_count": null,
   "metadata": {
    "colab": {
     "base_uri": "https://localhost:8080/"
    },
    "id": "0oeNxNCsBsn1",
    "outputId": "336b4774-2926-4b9a-8fb0-54a38f05283b"
   },
   "outputs": [
    {
     "name": "stdout",
     "output_type": "stream",
     "text": [
      "mkdir: cannot create directory ‘/root/.kaggle’: File exists\n"
     ]
    }
   ],
   "source": [
    "!mkdir /root/.kaggle\n",
    "!echo '{\"username\":\"replaceWithUsername\",\"key\":\"replaceWithAPIKey\"}' > /root/.kaggle/kaggle.json"
   ]
  },
  {
   "cell_type": "code",
   "execution_count": null,
   "metadata": {
    "colab": {
     "base_uri": "https://localhost:8080/"
    },
    "id": "syJtnb71kB78",
    "outputId": "615141f0-06a5-43cc-f1cc-0ef89ceb8a2c"
   },
   "outputs": [
    {
     "name": "stdout",
     "output_type": "stream",
     "text": [
      "Warning: Your Kaggle API key is readable by other users on this system! To fix this, you can run 'chmod 600 /root/.kaggle/kaggle.json'\n",
      "Downloading aptos2019-blindness-detection.zip to drive/MyDrive/Colab Notebooks/original_datasets\n",
      "100% 9.51G/9.51G [01:32<00:00, 129MB/s]\n",
      "100% 9.51G/9.51G [01:32<00:00, 110MB/s]\n"
     ]
    }
   ],
   "source": [
    "# Downloading APTOS-2019 Dataset from Kaggle\n",
    "!kaggle competitions download -c aptos2019-blindness-detection -p \"drive/MyDrive/Colab Notebooks/original_datasets\""
   ]
  },
  {
   "cell_type": "code",
   "execution_count": null,
   "metadata": {
    "colab": {
     "base_uri": "https://localhost:8080/"
    },
    "id": "j1xThhTlt9Kq",
    "outputId": "41c9b663-608c-4ffa-ce03-cb4a2e069ef9"
   },
   "outputs": [
    {
     "name": "stdout",
     "output_type": "stream",
     "text": [
      "Warning: Your Kaggle API key is readable by other users on this system! To fix this, you can run 'chmod 600 /root/.kaggle/kaggle.json'\n",
      "Downloading messidor2.zip to drive/MyDrive/Colab Notebooks/original_datasets\n",
      "100% 2.29G/2.29G [00:26<00:00, 132MB/s]\n",
      "100% 2.29G/2.29G [00:26<00:00, 92.3MB/s]\n"
     ]
    }
   ],
   "source": [
    "# Downloading Messidor-2 Dataset from Kaggle\n",
    "!kaggle datasets download -d xyaustin/messidor2 -p \"drive/MyDrive/Colab Notebooks/original_datasets\""
   ]
  },
  {
   "cell_type": "code",
   "execution_count": null,
   "metadata": {
    "colab": {
     "base_uri": "https://localhost:8080/"
    },
    "id": "BQM9Mp_WxYCt",
    "outputId": "f0357597-372b-4c7d-a07d-8bc2ab07f016"
   },
   "outputs": [
    {
     "name": "stdout",
     "output_type": "stream",
     "text": [
      "Downloading diabetic-retinopathy-detection.zip to drive/MyDrive/Colab Notebooks/original_datasets\n",
      "100% 82.2G/82.2G [14:40<00:00, 154MB/s]\n",
      "100% 82.2G/82.2G [14:40<00:00, 100MB/s]\n"
     ]
    }
   ],
   "source": [
    "# Downloading Diabetic Retinopathy Detection Competition Dataset from Kaggle\n",
    "!kaggle competitions download -c diabetic-retinopathy-detection -p \"drive/MyDrive/Colab Notebooks/original_datasets\""
   ]
  },
  {
   "cell_type": "markdown",
   "metadata": {
    "id": "WjAsRyxJ67VO"
   },
   "source": [
    "*IDRiD dataset was retrieved from the IDRiD website:<br>\n",
    "https://ieee-dataport.org/open-access/indian-diabetic-retinopathy-image-dataset-idrid*\n",
    "\n",
    "\n",
    "*However, it can also be gotten from Kaggle via the API command:*\n",
    "\n",
    "<code>\n",
    "!kaggle datasets download -d mariaherrerot/idrid-dataset -p \"drive/MyDrive/Colab Notebooks/original_datasets\"\n",
    "</code>"
   ]
  },
  {
   "cell_type": "markdown",
   "metadata": {
    "id": "Jk5FVi0E97yx"
   },
   "source": [
    "## Extracting Datasets from Zip"
   ]
  },
  {
   "cell_type": "code",
   "execution_count": null,
   "metadata": {
    "id": "AFMZShuhgQ1C"
   },
   "outputs": [],
   "source": [
    "def unzip_dataset(data_root_path, dataset_name):\n",
    "    zip_file_name = os.path.join(data_root_path, f\"{dataset_name}.zip\")\n",
    "    with zipfile.ZipFile(zip_file_name, 'r') as zip:\n",
    "        # Extract all files in the zip\n",
    "        zip.extractall(os.path.join(data_root_path, dataset_name))"
   ]
  },
  {
   "cell_type": "code",
   "execution_count": null,
   "metadata": {
    "id": "UWrT49WN9dxj"
   },
   "outputs": [],
   "source": [
    "unzip_dataset(original_datasets_dir, \"aptos2019-blindness-detection\")"
   ]
  },
  {
   "cell_type": "code",
   "execution_count": null,
   "metadata": {
    "id": "WUkWqyi8uNIs"
   },
   "outputs": [],
   "source": [
    "unzip_dataset(original_datasets_dir, \"messidor2\")"
   ]
  },
  {
   "cell_type": "code",
   "execution_count": null,
   "metadata": {
    "id": "BPuzMISEnV4x"
   },
   "outputs": [],
   "source": [
    "unzip_dataset(original_datasets_dir, \"B. Disease Grading\")"
   ]
  },
  {
   "cell_type": "code",
   "execution_count": null,
   "metadata": {
    "id": "DXEdFFsU9t0q"
   },
   "outputs": [],
   "source": [
    "unzip_dataset(original_datasets_dir, \"diabetic-retinopathy-detection\")\n",
    "\n",
    "# Link to csv for test set (download and add to diabetic-retinopathy-detection directory): \n",
    "# https://www.kaggle.com/competitions/diabetic-retinopathy-detection/discussion/16149"
   ]
  },
  {
   "cell_type": "markdown",
   "metadata": {
    "id": "g0UenwPYITmg"
   },
   "source": [
    "### Extracting split archives in Diabetic Retinopathy Detection Dataset Directory"
   ]
  },
  {
   "cell_type": "code",
   "execution_count": null,
   "metadata": {
    "id": "16pSqxZILlk5"
   },
   "outputs": [],
   "source": [
    "# Initialise path to Diabetic Retinopathy Detection Dataset directory\n",
    "dr_detection_dataset_dir = os.path.join(original_datasets_dir, \"diabetic-retinopathy-detection\")"
   ]
  },
  {
   "cell_type": "code",
   "execution_count": null,
   "metadata": {
    "id": "PsrbpAmG7mLn"
   },
   "outputs": [],
   "source": [
    "def concatenate_multipart_archives(source_dir, archive_prefix, target_dir): \n",
    "    '''\n",
    "    source_dir: the path where the archives are stored\n",
    "    archive_prefix: the prefix for the archives' file names\n",
    "    target_dir: the path to where the final archive is to be stored\n",
    "    '''\n",
    "    archive_path = os.path.join(target_dir, 'archive.zip')\n",
    "    if os.path.exists(archive_path):\n",
    "        return archive_path\n",
    "\n",
    "    # get the list of all archive files\n",
    "    archive_files = sorted([f for f in os.listdir(source_dir) if f.startswith(archive_prefix)])\n",
    "\n",
    "    # create target directory if it does not exist\n",
    "    if not os.path.exists(target_dir):\n",
    "        os.makedirs(target_dir)\n",
    "\n",
    "    # concatenate parts of archive into a single file\n",
    "    with tqdm(total=len(archive_files), desc='Concatenating parts') as pbar:\n",
    "        with open(archive_path, 'wb') as f:\n",
    "            for file in archive_files:\n",
    "                with open(os.path.join(source_dir, file), 'rb') as part:\n",
    "                    f.write(part.read())\n",
    "                pbar.update(1)\n",
    "\n",
    "    return archive_path"
   ]
  },
  {
   "cell_type": "code",
   "execution_count": null,
   "metadata": {
    "id": "-OlzRrtrIlvX"
   },
   "outputs": [],
   "source": [
    "def extract_multipart_archives(source_dir, archive_prefix, target_dir, archive_path=None):\n",
    "    '''\n",
    "    source_dir: the path where the archives are stored\n",
    "    archive_prefix: the prefix for the archives' file names\n",
    "    target_dir: the path to where the final archive is to be stored\n",
    "    '''\n",
    "    if archive_path is None:\n",
    "        archive_path = concatenate_multipart_archives(source_dir, archive_prefix, target_dir)\n",
    "    \n",
    "    # create target directory if it does not exist\n",
    "    if not os.path.exists(target_dir):\n",
    "        os.makedirs(target_dir)\n",
    "        \n",
    "    try:\n",
    "        # open the concatenated archive file\n",
    "        with zipfile.ZipFile(archive_path) as archive:\n",
    "            # initialize progress bar\n",
    "            with tqdm(total=len(archive.namelist()), unit='file', desc='Extracting files') as pbar:\n",
    "                # extract all files to target directory\n",
    "                for file in archive.namelist():\n",
    "                    archive.extract(file, target_dir)\n",
    "                    # update progress bar\n",
    "                    pbar.update(1)\n",
    "\n",
    "    except zipfile.BadZipfile as e:\n",
    "        print(f\"Extraction failed: {e}\")\n",
    "    # finally:\n",
    "        # remove the concatenated archive file\n",
    "        # os.remove(archive_path)"
   ]
  },
  {
   "cell_type": "code",
   "execution_count": null,
   "metadata": {
    "colab": {
     "base_uri": "https://localhost:8080/",
     "height": 52
    },
    "id": "9_jP4fV077Hw",
    "outputId": "9c8a6941-16e9-48f5-8aed-9296f8bcc440"
   },
   "outputs": [
    {
     "name": "stderr",
     "output_type": "stream",
     "text": [
      "Concatenating parts: 100%|██████████| 5/5 [03:53<00:00, 46.72s/it]\n"
     ]
    },
    {
     "data": {
      "application/vnd.google.colaboratory.intrinsic+json": {
       "type": "string"
      },
      "text/plain": [
       "'/content/drive/MyDrive/Colab Notebooks/original_datasets/diabetic-retinopathy-detection/train/archive.zip'"
      ]
     },
     "execution_count": 11,
     "metadata": {},
     "output_type": "execute_result"
    }
   ],
   "source": [
    "# Concatenate the DR train archives\n",
    "concatenate_multipart_archives(\n",
    "    dr_detection_dataset_dir,\n",
    "    'train.zip.',\n",
    "    os.path.join(dr_detection_dataset_dir, 'train')\n",
    ")"
   ]
  },
  {
   "cell_type": "code",
   "execution_count": null,
   "metadata": {
    "colab": {
     "base_uri": "https://localhost:8080/"
    },
    "id": "8Q64ONEy9Knd",
    "outputId": "88db6141-cd6b-4039-b701-6cc5bbbe113b"
   },
   "outputs": [
    {
     "name": "stderr",
     "output_type": "stream",
     "text": [
      "Extracting files: 100%|██████████| 35127/35127 [11:12<00:00, 52.20file/s]\n"
     ]
    }
   ],
   "source": [
    "# Extract the train archive\n",
    "extract_multipart_archives(\n",
    "    dr_detection_dataset_dir,\n",
    "    'train.zip.',\n",
    "    os.path.join(dr_detection_dataset_dir, 'train')\n",
    ")"
   ]
  },
  {
   "cell_type": "code",
   "execution_count": null,
   "metadata": {
    "colab": {
     "base_uri": "https://localhost:8080/",
     "height": 52
    },
    "id": "K14gnr2BLISe",
    "outputId": "30d1fd46-8189-475a-e07a-4875ae91a057"
   },
   "outputs": [
    {
     "name": "stderr",
     "output_type": "stream",
     "text": [
      "Concatenating parts: 100%|██████████| 7/7 [07:46<00:00, 66.59s/it]\n"
     ]
    },
    {
     "data": {
      "application/vnd.google.colaboratory.intrinsic+json": {
       "type": "string"
      },
      "text/plain": [
       "'/content/drive/MyDrive/Colab Notebooks/original_datasets/diabetic-retinopathy-detection/test/archive.zip'"
      ]
     },
     "execution_count": 33,
     "metadata": {},
     "output_type": "execute_result"
    }
   ],
   "source": [
    "# Concatenate the DR test archives\n",
    "concatenate_multipart_archives(\n",
    "    dr_detection_dataset_dir,\n",
    "    'test.zip.',\n",
    "    os.path.join(dr_detection_dataset_dir, 'test')\n",
    ")"
   ]
  },
  {
   "cell_type": "code",
   "execution_count": null,
   "metadata": {
    "colab": {
     "base_uri": "https://localhost:8080/"
    },
    "id": "I6SloRLeNGnD",
    "outputId": "b8e728f1-cbfb-4d23-a040-8df66f59f7c3"
   },
   "outputs": [
    {
     "name": "stderr",
     "output_type": "stream",
     "text": [
      "Extracting files: 100%|██████████| 53577/53577 [33:44<00:00, 26.46file/s]\n"
     ]
    }
   ],
   "source": [
    "# Extract the DR test archive\n",
    "extract_multipart_archives(\n",
    "    dr_detection_dataset_dir,\n",
    "    'test.zip.',\n",
    "    os.path.join(dr_detection_dataset_dir, 'test')\n",
    ")"
   ]
  },
  {
   "cell_type": "code",
   "execution_count": null,
   "metadata": {
    "id": "tTTDK9OabjUk"
   },
   "outputs": [],
   "source": [
    "# Extract the train labels csv from its zip file\n",
    "zip_file_name = os.path.join(dr_detection_dataset_dir, \"trainLabels.csv.zip\")\n",
    "with zipfile.ZipFile(zip_file_name, 'r') as zip:\n",
    "    zip.extractall(dr_detection_dataset_dir)"
   ]
  },
  {
   "cell_type": "markdown",
   "metadata": {
    "id": "E-PiZgqk8_Dx"
   },
   "source": [
    "## Collating the Datasets"
   ]
  },
  {
   "cell_type": "code",
   "execution_count": null,
   "metadata": {
    "id": "FsDW3hGb6fR5"
   },
   "outputs": [],
   "source": [
    "collated_dataset_dir = os.path.join(root_dir, 'collated_datasets')\n",
    "if not os.path.exists(collated_dataset_dir):\n",
    "    os.makedirs(collated_dataset_dir, exist_ok=True)"
   ]
  },
  {
   "cell_type": "code",
   "execution_count": null,
   "metadata": {
    "id": "AeiF3zFbNk7f"
   },
   "outputs": [],
   "source": [
    "def copy_images(\n",
    "    csv_data, \n",
    "    image_name_column, \n",
    "    diagnosis_column, \n",
    "    source_images_dir, \n",
    "    destination_dir,\n",
    "    image_file_extension=None,\n",
    "    suffix=''\n",
    "):\n",
    "    '''\n",
    "    Copy images to new folder based on diagnosis\n",
    "    \n",
    "    csv_data: pandas dataframe containing image names and diagnosis\n",
    "    image_name_column: column name of image names\n",
    "    diagnosis_column: column name of diagnosis\n",
    "    source_images_dir: path to directory containing images\n",
    "    image_file_extension: extension/format of images\n",
    "    destination_dir: path to output directory\n",
    "    suffix: string added to image name for customisation\n",
    "    '''\n",
    "    # Select rows that don't have null values in the specified columns\n",
    "    csv_data = csv_data.loc[        \n",
    "        csv_data[image_name_column].notnull() & \n",
    "        csv_data[diagnosis_column].notnull()\n",
    "    ]\n",
    "\n",
    "    # Create full paths for each image\n",
    "    if image_file_extension is None:\n",
    "        csv_data['full_path'] = source_images_dir + '/' + csv_data[image_name_column]\n",
    "    else:\n",
    "        csv_data['full_path'] = source_images_dir + '/' + csv_data[image_name_column] + image_file_extension\n",
    "\n",
    "    # Create output folder path for each diagnosis\n",
    "    csv_data['output_folder'] = destination_dir + '/' + csv_data[diagnosis_column].astype(int).astype(str)\n",
    "\n",
    "    # Create output path for each image\n",
    "    if image_file_extension is None:\n",
    "        csv_data['output_path'] = csv_data['output_folder'] + '/' + csv_data[image_name_column]\n",
    "    else:\n",
    "        csv_data['output_path'] = csv_data['output_folder'] + '/' + csv_data[image_name_column] + suffix + image_file_extension\n",
    "\n",
    "    # Make sure all output folders exist\n",
    "    csv_data['output_folder'].drop_duplicates().apply(lambda x: os.makedirs(x, exist_ok=True))\n",
    "\n",
    "    # Copy images to their output folders\n",
    "    tqdm(csv_data.apply(lambda x: shutil.copy2(x['full_path'], x['output_path']), axis=1))"
   ]
  },
  {
   "cell_type": "code",
   "execution_count": null,
   "metadata": {
    "id": "a3-NN6qwK7EL"
   },
   "outputs": [],
   "source": [
    "def get_image_paths(dataset_dir, class_dir):\n",
    "    \"\"\"\n",
    "    Auxiliary function to get the image paths for a class\n",
    "    \"\"\"\n",
    "    class_dir_path = os.path.join(dataset_dir, class_dir)\n",
    "    images = [os.path.join(class_dir_path, image) for image in os.listdir(class_dir_path) if image.endswith(('.jpeg', '.jpg', '.png'))]\n",
    "    return images"
   ]
  },
  {
   "cell_type": "code",
   "execution_count": null,
   "metadata": {
    "id": "__ZIr2RPTEt7"
   },
   "outputs": [],
   "source": [
    "def add_to_classes_dict(collated_dataset_dir, dataset_name):\n",
    "    '''\n",
    "    Add number of images in each class to dictionary\n",
    "\n",
    "    collated_dataset_dir: path to collated dataset directory\n",
    "    '''\n",
    "        \n",
    "    for class_dir in os.listdir(collated_dataset_dir):\n",
    "        class_images = get_image_paths(collated_dataset_dir, class_dir)\n",
    "        added_dataset_count = len(class_images) - classes_dict[class_dir]\n",
    "        print(f\"Class {class_dir} Total: {len(class_images)} | Class {class_dir} {dataset_name}: {added_dataset_count}\")\n",
    "        if class_dir not in classes_dict:\n",
    "            classes_dict[class_dir] = len(class_images)\n",
    "        else:\n",
    "            classes_dict[class_dir] += added_dataset_count"
   ]
  },
  {
   "cell_type": "code",
   "execution_count": null,
   "metadata": {
    "id": "PDun-s2dMLj_"
   },
   "outputs": [],
   "source": [
    "classes_dict = dict()"
   ]
  },
  {
   "cell_type": "markdown",
   "metadata": {
    "id": "2eO4tTkgLVsc"
   },
   "source": [
    "### Collating APTOS-2019 Blindness Detection Dataset"
   ]
  },
  {
   "cell_type": "code",
   "execution_count": null,
   "metadata": {
    "colab": {
     "base_uri": "https://localhost:8080/"
    },
    "id": "4Qy6e-ZG_bb6",
    "outputId": "68f9f155-0edc-47e2-e6f2-a6d0cecb7227"
   },
   "outputs": [
    {
     "name": "stdout",
     "output_type": "stream",
     "text": [
      "        id_code  diagnosis\n",
      "0  000c1434d8d7          2\n",
      "1  001639a390f0          4\n",
      "2  0024cdab0c1e          1\n",
      "3  002c21358ce6          0\n",
      "4  005b95c28852          0\n"
     ]
    }
   ],
   "source": [
    "aptos_2019_dir = os.path.join(original_datasets_dir, 'aptos2019-blindness-detection')\n",
    "aptos_train_csv = os.path.join(aptos_2019_dir, 'train.csv')\n",
    "aptos_train_data = pd.read_csv(aptos_train_csv)\n",
    "\n",
    "# Display first 5 rows in the csv\n",
    "print(aptos_train_data.head())"
   ]
  },
  {
   "cell_type": "code",
   "execution_count": null,
   "metadata": {
    "id": "uiK5DQ4jKON2"
   },
   "outputs": [],
   "source": [
    "# Copy APTOS-2019 images to new folder\n",
    "copy_images(\n",
    "    aptos_train_data, \n",
    "    'id_code', \n",
    "    'diagnosis', \n",
    "    os.path.join(aptos_2019_dir, 'train_images'),\n",
    "    collated_dataset_dir,\n",
    "    '.png'\n",
    ")"
   ]
  },
  {
   "cell_type": "code",
   "execution_count": null,
   "metadata": {
    "colab": {
     "base_uri": "https://localhost:8080/"
    },
    "id": "dy3XjGrDL3xd",
    "outputId": "a5f4ad25-ea2f-47b8-fd92-b5f7f245521c"
   },
   "outputs": [
    {
     "name": "stdout",
     "output_type": "stream",
     "text": [
      "0    1805\n",
      "2     999\n",
      "1     370\n",
      "4     295\n",
      "3     193\n",
      "Name: diagnosis, dtype: int64\n"
     ]
    }
   ],
   "source": [
    "# Display count for each class\n",
    "print(aptos_train_data['diagnosis'].value_counts())"
   ]
  },
  {
   "cell_type": "code",
   "execution_count": null,
   "metadata": {
    "colab": {
     "base_uri": "https://localhost:8080/"
    },
    "id": "wyNO7ZK-U1zQ",
    "outputId": "64519d9e-d065-485e-d75c-9da607d0c3f9"
   },
   "outputs": [
    {
     "name": "stdout",
     "output_type": "stream",
     "text": [
      "Class 2: 999\n",
      "Class 4: 295\n",
      "Class 1: 370\n",
      "Class 0: 1805\n",
      "Class 3: 193\n"
     ]
    }
   ],
   "source": [
    "add_to_classes_dict(collated_dataset_dir)"
   ]
  },
  {
   "cell_type": "markdown",
   "metadata": {
    "id": "g16svMhXVWVP"
   },
   "source": [
    "### Collating Messidor-2 Dataset"
   ]
  },
  {
   "cell_type": "code",
   "execution_count": null,
   "metadata": {
    "colab": {
     "base_uri": "https://localhost:8080/"
    },
    "id": "UnOu56pBV67_",
    "outputId": "c061c738-97d4-448c-872a-26de0dbcebdc"
   },
   "outputs": [
    {
     "name": "stdout",
     "output_type": "stream",
     "text": [
      "                     image_id  adjudicated_dr_grade  adjudicated_dme  \\\n",
      "0  20051020_43808_0100_PP.png                   0.0              0.0   \n",
      "1  20051020_43832_0100_PP.png                   1.0              0.0   \n",
      "2  20051020_43882_0100_PP.png                   1.0              0.0   \n",
      "3  20051020_43906_0100_PP.png                   2.0              1.0   \n",
      "4  20051020_44261_0100_PP.png                   0.0              0.0   \n",
      "\n",
      "   adjudicated_gradable  \n",
      "0                     1  \n",
      "1                     1  \n",
      "2                     1  \n",
      "3                     1  \n",
      "4                     1  \n"
     ]
    }
   ],
   "source": [
    "messidor_dir = os.path.join(original_datasets_dir, 'messidor2/messidor-2')\n",
    "messidor_csv = os.path.join(messidor_dir, 'messidor_data.csv')\n",
    "messidor_data = pd.read_csv(messidor_csv)\n",
    "\n",
    "# Display first 5 rows in the csv\n",
    "print(messidor_data.head())"
   ]
  },
  {
   "cell_type": "code",
   "execution_count": null,
   "metadata": {
    "colab": {
     "base_uri": "https://localhost:8080/"
    },
    "id": "-1Fx_UrhGRLD",
    "outputId": "01492249-8314-42e3-d1c1-09349d75f30a"
   },
   "outputs": [
    {
     "name": "stdout",
     "output_type": "stream",
     "text": [
      "image_id                0\n",
      "adjudicated_dr_grade    4\n",
      "adjudicated_dme         4\n",
      "adjudicated_gradable    0\n",
      "dtype: int64\n"
     ]
    }
   ],
   "source": [
    "# Check for missing values\n",
    "print(messidor_data.isnull().sum())"
   ]
  },
  {
   "cell_type": "code",
   "execution_count": null,
   "metadata": {
    "id": "476sBtMjWrY9"
   },
   "outputs": [],
   "source": [
    "# Copy Messidor images to new folder\n",
    "copy_images(\n",
    "    messidor_data, \n",
    "    'image_id', \n",
    "    'adjudicated_dr_grade', \n",
    "    os.path.join(messidor_dir, 'images'),\n",
    "    collated_dataset_dir\n",
    ")"
   ]
  },
  {
   "cell_type": "code",
   "execution_count": null,
   "metadata": {
    "colab": {
     "base_uri": "https://localhost:8080/"
    },
    "id": "Va4cE-3HYyOd",
    "outputId": "384cc455-fcea-4d23-aa26-77ab5618be61"
   },
   "outputs": [
    {
     "name": "stdout",
     "output_type": "stream",
     "text": [
      "0.0    1017\n",
      "2.0     347\n",
      "1.0     270\n",
      "3.0      75\n",
      "4.0      35\n",
      "Name: adjudicated_dr_grade, dtype: int64\n"
     ]
    }
   ],
   "source": [
    "# Display count for each class where the images are gradable\n",
    "print(messidor_data['adjudicated_dr_grade'].value_counts(dropna=True))"
   ]
  },
  {
   "cell_type": "code",
   "execution_count": null,
   "metadata": {
    "colab": {
     "base_uri": "https://localhost:8080/"
    },
    "id": "1fg0SrlSjWUw",
    "outputId": "9ce94579-6630-48b9-edb2-c45ffb4ef2c8"
   },
   "outputs": [
    {
     "name": "stdout",
     "output_type": "stream",
     "text": [
      "Class 2 Total: 1346 | Class 2 Messidor: 347\n",
      "Class 4 Total: 330 | Class 4 Messidor: 35\n",
      "Class 1 Total: 640 | Class 1 Messidor: 270\n",
      "Class 0 Total: 2822 | Class 0 Messidor: 1017\n",
      "Class 3 Total: 268 | Class 3 Messidor: 75\n"
     ]
    }
   ],
   "source": [
    "add_to_classes_dict(collated_dataset_dir, 'Messidor')"
   ]
  },
  {
   "cell_type": "markdown",
   "metadata": {
    "id": "O0A7dPWQmmKu"
   },
   "source": [
    "### Collating IDRiD Dataset"
   ]
  },
  {
   "cell_type": "code",
   "execution_count": null,
   "metadata": {
    "id": "hS5Xtxl8lL_M"
   },
   "outputs": [],
   "source": [
    "idrid_dir = os.path.join(original_datasets_dir, 'B. Disease Grading/B. Disease Grading')\n",
    "idrid_train_csv = os.path.join(idrid_dir, '2. Groundtruths/a. IDRiD_Disease Grading_Training Labels.csv')\n",
    "idrid_test_csv = os.path.join(idrid_dir, '2. Groundtruths/b. IDRiD_Disease Grading_Testing Labels.csv')\n",
    "idrid_train_data = pd.read_csv(idrid_train_csv)\n",
    "idrid_test_data = pd.read_csv(idrid_test_csv)"
   ]
  },
  {
   "cell_type": "code",
   "execution_count": null,
   "metadata": {
    "colab": {
     "base_uri": "https://localhost:8080/"
    },
    "id": "GI7FD_Timfw1",
    "outputId": "43bfe8b3-2158-4678-94b7-99ecc28164e8"
   },
   "outputs": [
    {
     "name": "stdout",
     "output_type": "stream",
     "text": [
      "  Image name  Retinopathy grade  Risk of macular edema   Unnamed: 3  \\\n",
      "0  IDRiD_001                  3                       2         NaN   \n",
      "1  IDRiD_002                  3                       2         NaN   \n",
      "2  IDRiD_003                  2                       2         NaN   \n",
      "3  IDRiD_004                  3                       2         NaN   \n",
      "4  IDRiD_005                  4                       0         NaN   \n",
      "\n",
      "   Unnamed: 4  Unnamed: 5  Unnamed: 6  Unnamed: 7  Unnamed: 8  Unnamed: 9  \\\n",
      "0         NaN         NaN         NaN         NaN         NaN         NaN   \n",
      "1         NaN         NaN         NaN         NaN         NaN         NaN   \n",
      "2         NaN         NaN         NaN         NaN         NaN         NaN   \n",
      "3         NaN         NaN         NaN         NaN         NaN         NaN   \n",
      "4         NaN         NaN         NaN         NaN         NaN         NaN   \n",
      "\n",
      "   Unnamed: 10 Unnamed: 11  \n",
      "0          NaN         NaN  \n",
      "1          NaN         NaN  \n",
      "2          NaN         NaN  \n",
      "3          NaN         NaN  \n",
      "4          NaN         NaN  \n"
     ]
    }
   ],
   "source": [
    "# Display first 5 rows in the train csv\n",
    "print(idrid_train_data.head())"
   ]
  },
  {
   "cell_type": "code",
   "execution_count": null,
   "metadata": {
    "id": "K-uTMJyJo5tS"
   },
   "outputs": [],
   "source": [
    "# Copy IDRiD train images to new folder\n",
    "copy_images(\n",
    "    idrid_train_data, \n",
    "    'Image name', \n",
    "    'Retinopathy grade', \n",
    "    os.path.join(idrid_dir, '1. Original Images/a. Training Set'),\n",
    "    collated_dataset_dir,\n",
    "    '.jpg',\n",
    "    '_train'\n",
    ")"
   ]
  },
  {
   "cell_type": "code",
   "execution_count": null,
   "metadata": {
    "colab": {
     "base_uri": "https://localhost:8080/"
    },
    "id": "qjVI8PWMnFyk",
    "outputId": "2e5c7d1f-127c-4027-d62f-ab6423b2b4a1"
   },
   "outputs": [
    {
     "name": "stdout",
     "output_type": "stream",
     "text": [
      "2    136\n",
      "0    134\n",
      "3     74\n",
      "4     49\n",
      "1     20\n",
      "Name: Retinopathy grade, dtype: int64\n"
     ]
    }
   ],
   "source": [
    "# Display count for each class in train csv\n",
    "print(idrid_train_data['Retinopathy grade'].value_counts())"
   ]
  },
  {
   "cell_type": "code",
   "execution_count": null,
   "metadata": {
    "colab": {
     "base_uri": "https://localhost:8080/"
    },
    "id": "VTn_qs48p_x1",
    "outputId": "be3ffba0-1912-4ebe-e290-25813cb2e35f"
   },
   "outputs": [
    {
     "name": "stdout",
     "output_type": "stream",
     "text": [
      "Class 2 Total: 1482 | Class 2 IDRiD: 136\n",
      "Class 4 Total: 379 | Class 4 IDRiD: 49\n",
      "Class 1 Total: 660 | Class 1 IDRiD: 20\n",
      "Class 0 Total: 2956 | Class 0 IDRiD: 134\n",
      "Class 3 Total: 342 | Class 3 IDRiD: 74\n"
     ]
    }
   ],
   "source": [
    "add_to_classes_dict(collated_dataset_dir, 'IDRiD')"
   ]
  },
  {
   "cell_type": "code",
   "execution_count": null,
   "metadata": {
    "colab": {
     "base_uri": "https://localhost:8080/"
    },
    "id": "TLbCzEQOmoGI",
    "outputId": "7eabf793-254c-40b0-d9b2-60cdfd788e4a"
   },
   "outputs": [
    {
     "name": "stdout",
     "output_type": "stream",
     "text": [
      "  Image name  Retinopathy grade  Risk of macular edema \n",
      "0  IDRiD_001                  4                       0\n",
      "1  IDRiD_002                  4                       1\n",
      "2  IDRiD_003                  4                       0\n",
      "3  IDRiD_004                  4                       0\n",
      "4  IDRiD_005                  4                       1\n"
     ]
    }
   ],
   "source": [
    "# Display first 5 rows in the test csv\n",
    "print(idrid_test_data.head())"
   ]
  },
  {
   "cell_type": "code",
   "execution_count": null,
   "metadata": {
    "id": "TmEzbQmKxAQZ"
   },
   "outputs": [],
   "source": [
    "# Copy IDRiD test images to new folder\n",
    "copy_images(\n",
    "    idrid_test_data, \n",
    "    'Image name', \n",
    "    'Retinopathy grade', \n",
    "    os.path.join(idrid_dir, '1. Original Images/b. Testing Set'),\n",
    "    collated_dataset_dir,\n",
    "    '.jpg',\n",
    "    '_test'\n",
    ")"
   ]
  },
  {
   "cell_type": "code",
   "execution_count": null,
   "metadata": {
    "colab": {
     "base_uri": "https://localhost:8080/"
    },
    "id": "_ExrCQ6-neh3",
    "outputId": "0cf5e332-0418-4f98-fe45-2d8f5a83ac42"
   },
   "outputs": [
    {
     "name": "stdout",
     "output_type": "stream",
     "text": [
      "0    34\n",
      "2    32\n",
      "3    19\n",
      "4    13\n",
      "1     5\n",
      "Name: Retinopathy grade, dtype: int64\n"
     ]
    }
   ],
   "source": [
    "# Display count for each class in test csv\n",
    "print(idrid_test_data['Retinopathy grade'].value_counts())"
   ]
  },
  {
   "cell_type": "code",
   "execution_count": null,
   "metadata": {
    "colab": {
     "base_uri": "https://localhost:8080/"
    },
    "id": "EVNwurki5Xep",
    "outputId": "0fac154d-6303-400f-8467-e50bd1f7dc8b"
   },
   "outputs": [
    {
     "name": "stdout",
     "output_type": "stream",
     "text": [
      "Class 2 Total: 1514 | Class 2 IDRiD Test: 32\n",
      "Class 4 Total: 392 | Class 4 IDRiD Test: 13\n",
      "Class 1 Total: 665 | Class 1 IDRiD Test: 5\n",
      "Class 0 Total: 2990 | Class 0 IDRiD Test: 34\n",
      "Class 3 Total: 361 | Class 3 IDRiD Test: 19\n"
     ]
    }
   ],
   "source": [
    "add_to_classes_dict(collated_dataset_dir, 'IDRiD Test')"
   ]
  },
  {
   "cell_type": "markdown",
   "metadata": {
    "id": "CTrIjTNBIeT4"
   },
   "source": [
    "### Collating Diabetic Retinopathy Detection Train Dataset"
   ]
  },
  {
   "cell_type": "code",
   "execution_count": null,
   "metadata": {
    "colab": {
     "base_uri": "https://localhost:8080/"
    },
    "id": "bkOuVSivxtW7",
    "outputId": "46d74c40-f4f3-4091-bae5-4e297664357b"
   },
   "outputs": [
    {
     "name": "stdout",
     "output_type": "stream",
     "text": [
      "      image  level\n",
      "0   10_left      0\n",
      "1  10_right      0\n",
      "2   13_left      0\n",
      "3  13_right      0\n",
      "4   15_left      1\n"
     ]
    }
   ],
   "source": [
    "dr_detection_train_csv = os.path.join(dr_detection_dataset_dir, 'trainLabels.csv')\n",
    "dr_detection_train_data = pd.read_csv(dr_detection_train_csv)\n",
    "\n",
    "# Display first 5 rows in the csv\n",
    "print(dr_detection_train_data.head())"
   ]
  },
  {
   "cell_type": "code",
   "execution_count": null,
   "metadata": {
    "id": "bbwn4vecJXSc"
   },
   "outputs": [],
   "source": [
    "# Copy DR Detection Dataset train images to new folder\n",
    "copy_images(\n",
    "    dr_detection_train_data, \n",
    "    'image', \n",
    "    'level', \n",
    "    os.path.join(dr_detection_dataset_dir, 'train/train'),\n",
    "    collated_dataset_dir,\n",
    "    '.jpeg',\n",
    "    '_DRtrain'\n",
    ")"
   ]
  },
  {
   "cell_type": "code",
   "execution_count": null,
   "metadata": {
    "colab": {
     "base_uri": "https://localhost:8080/"
    },
    "id": "jKnHxxulKWoN",
    "outputId": "68a7a63b-5ae7-46f2-f9ac-a1244f97d2f5"
   },
   "outputs": [
    {
     "name": "stdout",
     "output_type": "stream",
     "text": [
      "0    25810\n",
      "2     5292\n",
      "1     2443\n",
      "3      873\n",
      "4      708\n",
      "Name: level, dtype: int64\n"
     ]
    }
   ],
   "source": [
    "# Display count for each class\n",
    "print(dr_detection_train_data['level'].value_counts())"
   ]
  },
  {
   "cell_type": "code",
   "execution_count": null,
   "metadata": {
    "colab": {
     "base_uri": "https://localhost:8080/"
    },
    "id": "zWtsv19gKfPi",
    "outputId": "b468d361-4c13-4ad2-b42c-622f578a9797"
   },
   "outputs": [
    {
     "name": "stdout",
     "output_type": "stream",
     "text": [
      "Class 2 Total: 6806 | Class 2 DR Detection Train Dataset: 5292\n",
      "Class 4 Total: 1100 | Class 4 DR Detection Train Dataset: 708\n",
      "Class 1 Total: 3108 | Class 1 DR Detection Train Dataset: 2443\n",
      "Class 0 Total: 28800 | Class 0 DR Detection Train Dataset: 25810\n",
      "Class 3 Total: 1234 | Class 3 DR Detection Train Dataset: 873\n"
     ]
    }
   ],
   "source": [
    "add_to_classes_dict(collated_dataset_dir, 'DR Detection Train Dataset')"
   ]
  },
  {
   "cell_type": "markdown",
   "metadata": {
    "id": "3KFa8Ln1L5cD"
   },
   "source": [
    "### Collating Diabetic Retinopathy Detection Test Dataset"
   ]
  },
  {
   "cell_type": "code",
   "execution_count": null,
   "metadata": {
    "colab": {
     "base_uri": "https://localhost:8080/"
    },
    "id": "HOXs0uN5LfQy",
    "outputId": "41cc8262-7528-4ec2-e295-2c8652095462"
   },
   "outputs": [
    {
     "name": "stdout",
     "output_type": "stream",
     "text": [
      "     image  level    Usage\n",
      "0   1_left      0  Private\n",
      "1  1_right      0  Private\n",
      "2   2_left      0   Public\n",
      "3  2_right      0   Public\n",
      "4   3_left      2  Private\n"
     ]
    }
   ],
   "source": [
    "dr_detection_test_csv = os.path.join(dr_detection_dataset_dir, 'retinopathy_solution.csv')\n",
    "dr_detection_test_data = pd.read_csv(dr_detection_test_csv)\n",
    "\n",
    "# Display first 5 rows in the csv\n",
    "print(dr_detection_test_data.head())"
   ]
  },
  {
   "cell_type": "code",
   "execution_count": null,
   "metadata": {
    "colab": {
     "base_uri": "https://localhost:8080/"
    },
    "id": "TNdyCrDxLv2a",
    "outputId": "2c30860d-14d2-4a18-a04d-ae458c9f373a"
   },
   "outputs": [
    {
     "name": "stderr",
     "output_type": "stream",
     "text": [
      "  0%|          | 0/53576 [00:00<?, ?it/s]\n"
     ]
    }
   ],
   "source": [
    "# Copy DR Detection Dataset test images to new folder\n",
    "copy_images(\n",
    "    dr_detection_test_data, \n",
    "    'image', \n",
    "    'level', \n",
    "    os.path.join(dr_detection_dataset_dir, 'testFormer/test'),\n",
    "    collated_dataset_dir,\n",
    "    '.jpeg',\n",
    "    '_DRtest'\n",
    ")"
   ]
  },
  {
   "cell_type": "code",
   "execution_count": null,
   "metadata": {
    "colab": {
     "base_uri": "https://localhost:8080/"
    },
    "id": "ewHRaXZrLr4n",
    "outputId": "f6e0869a-803a-40b6-b14b-44e7de0f6518"
   },
   "outputs": [
    {
     "name": "stdout",
     "output_type": "stream",
     "text": [
      "0    39533\n",
      "2     7861\n",
      "1     3762\n",
      "3     1214\n",
      "4     1206\n",
      "Name: level, dtype: int64\n"
     ]
    }
   ],
   "source": [
    "# Display count for each class\n",
    "print(dr_detection_test_data['level'].value_counts())"
   ]
  },
  {
   "cell_type": "code",
   "execution_count": null,
   "metadata": {
    "colab": {
     "base_uri": "https://localhost:8080/"
    },
    "id": "wszy8DAjL-67",
    "outputId": "5ea5a670-32aa-4a09-e517-a6c7c65cf809"
   },
   "outputs": [
    {
     "name": "stdout",
     "output_type": "stream",
     "text": [
      "Class 2 Total: 14667 | Class 2 DR Detection Test Dataset: 7861\n",
      "Class 4 Total: 2306 | Class 4 DR Detection Test Dataset: 1206\n",
      "Class 1 Total: 6870 | Class 1 DR Detection Test Dataset: 3762\n",
      "Class 0 Total: 68333 | Class 0 DR Detection Test Dataset: 39533\n",
      "Class 3 Total: 2448 | Class 3 DR Detection Test Dataset: 1214\n"
     ]
    }
   ],
   "source": [
    "add_to_classes_dict(collated_dataset_dir, 'DR Detection Test Dataset')"
   ]
  },
  {
   "cell_type": "code",
   "execution_count": null,
   "metadata": {
    "colab": {
     "base_uri": "https://localhost:8080/"
    },
    "id": "J7Q_eSGMjcOU",
    "outputId": "03de1eed-31f7-4ede-f228-91b29b56951f"
   },
   "outputs": [
    {
     "name": "stdout",
     "output_type": "stream",
     "text": [
      "Class 0 Total: 68333\n",
      "Class 1 Total: 6870\n",
      "Class 2 Total: 14667\n",
      "Class 3 Total: 2448\n",
      "Class 4 Total: 2306\n"
     ]
    }
   ],
   "source": [
    "# Confirm total number of images in all classes\n",
    "class_dirs = sorted([int(class_num) for class_num in os.listdir(collated_dataset_dir)])\n",
    "for class_dir in class_dirs:\n",
    "    class_images = get_image_paths(collated_dataset_dir, str(class_dir))\n",
    "    print(f\"Class {class_dir} Total: {len(class_images)}\")"
   ]
  },
  {
   "cell_type": "code",
   "execution_count": null,
   "metadata": {
    "colab": {
     "base_uri": "https://localhost:8080/"
    },
    "id": "Da5RRTIbwS8N",
    "outputId": "a8e8b3eb-5a00-4b92-da3d-b085dd131f36"
   },
   "outputs": [
    {
     "name": "stdout",
     "output_type": "stream",
     "text": [
      "Class 0 Total: 68333\n",
      "Class 1 Total: 6870\n",
      "Class 2 Total: 14667\n",
      "Class 3 Total: 2448\n",
      "Class 4 Total: 2306\n"
     ]
    }
   ],
   "source": [
    "# Create dictionary of class image paths\n",
    "class_dirs = sorted([int(class_num) for class_num in os.listdir(collated_dataset_dir)])\n",
    "class_image_dict = dict()\n",
    "for class_dir in class_dirs:\n",
    "    class_images = get_image_paths(collated_dataset_dir, str(class_dir))\n",
    "    print(f\"Class {class_dir} Total: {len(class_images)}\")\n",
    "    class_image_dict[str(class_dir)] = class_images\n",
    "\n",
    "# Save dictionary to npz file\n",
    "np.savez(os.path.join(root_dir, 'class_image_paths.npz'), **class_image_dict)"
   ]
  }
 ],
 "metadata": {
  "accelerator": "TPU",
  "colab": {
   "machine_shape": "hm",
   "provenance": []
  },
  "environment": {
   "kernel": "python3",
   "name": "common-cu110.m104",
   "type": "gcloud",
   "uri": "gcr.io/deeplearning-platform-release/base-cu110:m104"
  },
  "gpuClass": "premium",
  "kernelspec": {
   "display_name": "Python 3",
   "language": "python",
   "name": "python3"
  },
  "language_info": {
   "codemirror_mode": {
    "name": "ipython",
    "version": 3
   },
   "file_extension": ".py",
   "mimetype": "text/x-python",
   "name": "python",
   "nbconvert_exporter": "python",
   "pygments_lexer": "ipython3",
   "version": "3.7.12"
  }
 },
 "nbformat": 4,
 "nbformat_minor": 4
}
